{
 "cells": [
  {
   "cell_type": "markdown",
   "metadata": {},
   "source": [
    "## Overview\n",
    "This is the first in a series of tutorials that illustrate how to download the 990 e-file data the IRS started to make public in 2017. The IRS 990 e-file data are housed on Amazon Web Services (AWS) at https://aws.amazon.com/public-data-sets/irs-990/\n",
    "\n",
    "In this first notebook we will access the AWS data and download the annual index files that list all available 990 filings. Specifically, we will download the index files and insert them into a MongoDB database. \n",
    "\n",
    "Note that in 2022 the IRS has created a different process for making the electronic 990 forms available. I will create a series of tutorials for the new process in the near future. The following code will allow you to access all e-file data that was made available up to December 31, 2021."
   ]
  },
  {
   "cell_type": "markdown",
   "metadata": {},
   "source": [
    "### Load packages and set working directory"
   ]
  },
  {
   "cell_type": "code",
   "execution_count": 2,
   "metadata": {},
   "outputs": [],
   "source": [
    "import sys\n",
    "import time\n",
    "import json"
   ]
  },
  {
   "cell_type": "markdown",
   "metadata": {},
   "source": [
    "#### Show current date and time to track latest time we've used the code"
   ]
  },
  {
   "cell_type": "code",
   "execution_count": 4,
   "metadata": {},
   "outputs": [
    {
     "name": "stdout",
     "output_type": "stream",
     "text": [
      "Wall time: 0 ns\n",
      "Current date and time :  2022-06-19 15:46:36 \n",
      "\n"
     ]
    }
   ],
   "source": [
    "%time\n",
    "import datetime\n",
    "print (\"Current date and time : \", datetime.datetime.now().strftime(\"%Y-%m-%d %H:%M:%S\"), '\\n')"
   ]
  },
  {
   "cell_type": "markdown",
   "metadata": {},
   "source": [
    "#### MongoDB\n",
    "Depending on the project, I will store the data in SQLite or MongoDB. This time I'll use MongoDB -- it's great for storing JSON data where each observation could have different variables. Before we get to the interesting part the following code blocks set up the MongoDB environment and the new database we'll be using. \n",
    "\n",
    "**_Note:_** In a terminal we'll have to start MongoDB by running the command *mongod* or *sudo mongod*. Then we run the following code block here to access MongoDB."
   ]
  },
  {
   "cell_type": "code",
   "execution_count": 5,
   "metadata": {},
   "outputs": [],
   "source": [
    "import pymongo\n",
    "from pymongo import MongoClient\n",
    "client = MongoClient()"
   ]
  },
  {
   "cell_type": "markdown",
   "metadata": {},
   "source": [
    "<br>\n",
    "We first have to define a database and then a table or *collection* where for storing the File listing information we will download. I decided it would be better to have a different index *collection* in the database for each year."
   ]
  },
  {
   "cell_type": "code",
   "execution_count": 29,
   "metadata": {},
   "outputs": [],
   "source": [
    "# DEFINE THE MONGODB DATABASE\n",
    "db = client['irs_990_db']\n",
    "\n",
    "# DEFINE THE COLLECTIONS WHERE I'LL INSERT THE DATA\n",
    "file_list_2011 = db['file_list_2011']\n",
    "file_list_2012 = db['file_list_2012']\n",
    "file_list_2013 = db['file_list_2013']\n",
    "file_list_2014 = db['file_list_2014']\n",
    "file_list_2015 = db['file_list_2015']\n",
    "file_list_2016 = db['file_list_2016']\n",
    "file_list_2017 = db['file_list_2017']\n",
    "file_list_2018 = db['file_list_2018']\n",
    "file_list_2019 = db['file_list_2019']\n",
    "file_list_2020 = db['file_list_2020']\n",
    "file_list_2021 = db['file_list_2021']"
   ]
  },
  {
   "cell_type": "markdown",
   "metadata": {},
   "source": [
    "<br>Check how many observations in the database tables. Values will be zero until we add data. "
   ]
  },
  {
   "cell_type": "code",
   "execution_count": 31,
   "metadata": {},
   "outputs": [
    {
     "name": "stdout",
     "output_type": "stream",
     "text": [
      "0\n",
      "0\n",
      "0\n",
      "0\n",
      "0\n",
      "0\n",
      "0\n",
      "0\n",
      "0\n",
      "0\n",
      "0\n"
     ]
    }
   ],
   "source": [
    "print(file_list_2011.estimated_document_count())\n",
    "print(file_list_2012.estimated_document_count())\n",
    "print(file_list_2013.estimated_document_count())\n",
    "print(file_list_2014.estimated_document_count())\n",
    "print(file_list_2015.estimated_document_count())\n",
    "print(file_list_2016.estimated_document_count())\n",
    "print(file_list_2017.estimated_document_count())\n",
    "print(file_list_2018.estimated_document_count())\n",
    "print(file_list_2019.estimated_document_count())\n",
    "print(file_list_2020.estimated_document_count())\n",
    "print(file_list_2021.estimated_document_count())"
   ]
  },
  {
   "cell_type": "markdown",
   "metadata": {},
   "source": [
    "# Download index data"
   ]
  },
  {
   "cell_type": "markdown",
   "metadata": {},
   "source": [
    "Let's first create a python *list* containing all index file years."
   ]
  },
  {
   "cell_type": "code",
   "execution_count": 32,
   "metadata": {},
   "outputs": [
    {
     "name": "stdout",
     "output_type": "stream",
     "text": [
      "[2011, 2012, 2013, 2014, 2015, 2016, 2017, 2018, 2019, 2020, 2021]\n"
     ]
    }
   ],
   "source": [
    "year_list = []\n",
    "for year in range(2011, 2022, 1):\n",
    "    year_list.append(year)\n",
    "print(year_list)"
   ]
  },
  {
   "cell_type": "markdown",
   "metadata": {},
   "source": [
    "<br>We will now create a python *dictionary* (which we called *data*) that will hold each year's index of filings. In the following block of code we begin a *for loop*, looping over each year of our list to in turn access the respective annual key in our dictionary. \n",
    "\n",
    "If you are unfamiliar with Python, each year has its own *key* in the *data* dictionary; for instance the 2011 data will be nested under the  <code>data['Filings2011']</code> key. We use the *year* values in the python list we have just created to access each dictionary key in turn. The trick is the <code>%s</code> string formatting placeholder. The <code>%s</code> signifies a variable, and the <code>year</code> following the percentage sign tells the code which value to use for this variable. Within the context of a <code>for loop</code>, we thus have code that will create each of our keys in turn. \n",
    "\n",
    "In the final line of code here we access the key in each loop and print out the number of filings for that year. This process will take a few minutes as each index file is downloaded in turn. "
   ]
  },
  {
   "cell_type": "code",
   "execution_count": 33,
   "metadata": {},
   "outputs": [
    {
     "name": "stdout",
     "output_type": "stream",
     "text": [
      "# of filings in 2011 : 203075\n",
      "# of filings in 2012 : 261622\n",
      "# of filings in 2013 : 261449\n",
      "# of filings in 2014 : 387529\n",
      "# of filings in 2015 : 261034\n",
      "# of filings in 2016 : 378420\n",
      "# of filings in 2017 : 489013\n",
      "# of filings in 2018 : 457510\n",
      "# of filings in 2019 : 416910\n",
      "# of filings in 2020 : 333722\n",
      "# of filings in 2021 : 461887\n",
      "# of years of data: 11\n"
     ]
    }
   ],
   "source": [
    "import requests\n",
    "data = {}\n",
    "for year in year_list:\n",
    "    url = 'https://s3.amazonaws.com/irs-form-990/index_%s.json' % year\n",
    "    f = requests.get(url)\n",
    "    data['Filings%s' % year] = f.json()['Filings%s' % year]\n",
    "    print('# of filings in', year, ':', len(data['Filings%s' % year]))    \n",
    "print('# of years of data:', len(data))"
   ]
  },
  {
   "cell_type": "markdown",
   "metadata": {},
   "source": [
    "<br>We can now print out the number of filings that have been successfully inserted for each year."
   ]
  },
  {
   "cell_type": "code",
   "execution_count": 34,
   "metadata": {},
   "outputs": [
    {
     "name": "stdout",
     "output_type": "stream",
     "text": [
      "# of filings in 2011 : 203075\n",
      "# of filings in 2012 : 261622\n",
      "# of filings in 2013 : 261449\n",
      "# of filings in 2014 : 387529\n",
      "# of filings in 2015 : 261034\n",
      "# of filings in 2016 : 378420\n",
      "# of filings in 2017 : 489013\n",
      "# of filings in 2018 : 457510\n",
      "# of filings in 2019 : 416910\n",
      "# of filings in 2020 : 333722\n",
      "# of filings in 2021 : 461887\n"
     ]
    }
   ],
   "source": [
    "for year in year_list:\n",
    "    print('# of filings in', year, ':', len(data['Filings%s' % year]))"
   ]
  },
  {
   "cell_type": "markdown",
   "metadata": {},
   "source": [
    "<br>To view one entry in the 2021 index we run the following code block. You can see here that each entry in the index file contains minimal information on each filing. What we need these indexes for is really only the *URL* value; in the next Jupyter notebook we will access the full 990 filings at using those *URL* addresses."
   ]
  },
  {
   "cell_type": "code",
   "execution_count": 35,
   "metadata": {},
   "outputs": [
    {
     "data": {
      "text/plain": [
       "[{'EIN': '836009168',\n",
       "  'TaxPeriod': '202006',\n",
       "  'DLN': '93492014007381',\n",
       "  'FormType': '990EZ',\n",
       "  'URL': 'https://s3.amazonaws.com/irs-form-990/202130149349200738_public.xml',\n",
       "  'OrganizationName': 'TORRINGTON ROTARY CLUB',\n",
       "  'SubmittedOn': '2021-04-22',\n",
       "  'ObjectId': '202130149349200738',\n",
       "  'LastUpdated': '2021-06-11T13:10:10'}]"
      ]
     },
     "execution_count": 35,
     "metadata": {},
     "output_type": "execute_result"
    }
   ],
   "source": [
    "data['Filings2021'][:1]"
   ]
  },
  {
   "cell_type": "markdown",
   "metadata": {},
   "source": [
    "<br>We can also run the following code block to count the total number of filings indexed: 3,912,171. This includes non-501(c)(3) organizations and covers *990EZ*, *990PF*, and *990* filings. "
   ]
  },
  {
   "cell_type": "code",
   "execution_count": 51,
   "metadata": {},
   "outputs": [
    {
     "data": {
      "text/plain": [
       "3912171"
      ]
     },
     "execution_count": 51,
     "metadata": {},
     "output_type": "execute_result"
    }
   ],
   "source": [
    "sum(len(v) for v in data.values())"
   ]
  },
  {
   "cell_type": "markdown",
   "metadata": {},
   "source": [
    "### Read JSON file into MongoDB database\n",
    "What we will do now is insert our data into the MongoDB database. Because the data are nested in the 11 annual dictionary keys, we will loop over each of those keys and insert each year individually. The <code>insert_many</code> takes care of the data insertion. "
   ]
  },
  {
   "cell_type": "code",
   "execution_count": 17,
   "metadata": {},
   "outputs": [],
   "source": [
    "for year in year_list:\n",
    "    print('# of filings in database:', file_list_2011_2019.estimated_document_count())\n",
    "    file_list_2011_2019.insert_many(data['Filings%s' % year])\n",
    "    print('# of filings in', year, 'added to database:', len(data['Filings%s' % year]), '\\n')\n",
    "print('Total # of filings in database:', file_list_2011_2019.estimated_document_count() )"
   ]
  },
  {
   "cell_type": "code",
   "execution_count": 37,
   "metadata": {},
   "outputs": [
    {
     "name": "stdout",
     "output_type": "stream",
     "text": [
      "# of filings in 2011 database: 0\n",
      "# of filings in 2011 to be added to database: 0\n",
      "# of filings in 2011 added to database: 203075 \n",
      "\n",
      "# of filings in 2012 database: 0\n",
      "# of filings in 2012 to be added to database: 0\n",
      "# of filings in 2012 added to database: 261622 \n",
      "\n",
      "# of filings in 2013 database: 0\n",
      "# of filings in 2013 to be added to database: 0\n",
      "# of filings in 2013 added to database: 261449 \n",
      "\n",
      "# of filings in 2014 database: 0\n",
      "# of filings in 2014 to be added to database: 0\n",
      "# of filings in 2014 added to database: 387529 \n",
      "\n",
      "# of filings in 2015 database: 0\n",
      "# of filings in 2015 to be added to database: 0\n",
      "# of filings in 2015 added to database: 261034 \n",
      "\n",
      "# of filings in 2016 database: 0\n",
      "# of filings in 2016 to be added to database: 0\n",
      "# of filings in 2016 added to database: 378420 \n",
      "\n",
      "# of filings in 2017 database: 0\n",
      "# of filings in 2017 to be added to database: 0\n",
      "# of filings in 2017 added to database: 489013 \n",
      "\n",
      "# of filings in 2018 database: 0\n",
      "# of filings in 2018 to be added to database: 0\n",
      "# of filings in 2018 added to database: 457510 \n",
      "\n",
      "# of filings in 2019 database: 0\n",
      "# of filings in 2019 to be added to database: 0\n",
      "# of filings in 2019 added to database: 416910 \n",
      "\n",
      "# of filings in 2020 database: 0\n",
      "# of filings in 2020 to be added to database: 0\n",
      "# of filings in 2020 added to database: 333722 \n",
      "\n",
      "# of filings in 2021 database: 0\n",
      "# of filings in 2021 to be added to database: 0\n",
      "# of filings in 2021 added to database: 461887 \n",
      "\n"
     ]
    },
    {
     "data": {
      "text/plain": [
       "[203075,\n",
       " 261622,\n",
       " 261449,\n",
       " 387529,\n",
       " 261034,\n",
       " 378420,\n",
       " 489013,\n",
       " 457510,\n",
       " 416910,\n",
       " 333722,\n",
       " 461887]"
      ]
     },
     "execution_count": 37,
     "metadata": {},
     "output_type": "execute_result"
    }
   ],
   "source": [
    "counts = []\n",
    "for year in year_list[:]:    \n",
    "    col = 'file_list_%s' % year\n",
    "    print('# of filings in %s database:' % year, eval(col).estimated_document_count())\n",
    "    eval(col).insert_many(data['Filings%s' % year])\n",
    "    print('# of filings in', year, 'to be added to database:', len(data['Filings%s' % year])-eval(col).estimated_document_count()) \n",
    "    counts.append(eval(col).estimated_document_count())\n",
    "    print('# of filings in', year, 'added to database:', eval(col).estimated_document_count(), '\\n')\n",
    "counts   "
   ]
  },
  {
   "cell_type": "code",
   "execution_count": 38,
   "metadata": {},
   "outputs": [
    {
     "name": "stdout",
     "output_type": "stream",
     "text": [
      "# of filings in 2011 : 203075\n",
      "# of filings in 2012 : 261622\n",
      "# of filings in 2013 : 261449\n",
      "# of filings in 2014 : 387529\n",
      "# of filings in 2015 : 261034\n",
      "# of filings in 2016 : 378420\n",
      "# of filings in 2017 : 489013\n",
      "# of filings in 2018 : 457510\n",
      "# of filings in 2019 : 416910\n",
      "# of filings in 2020 : 333722\n",
      "# of filings in 2021 : 461887\n"
     ]
    }
   ],
   "source": [
    "for year in year_list:\n",
    "    print('# of filings in', year, ':', len(data['Filings%s' % year]))"
   ]
  },
  {
   "cell_type": "markdown",
   "metadata": {},
   "source": [
    "##### Count all of the files in the individual datasets"
   ]
  },
  {
   "cell_type": "code",
   "execution_count": 50,
   "metadata": {},
   "outputs": [
    {
     "name": "stdout",
     "output_type": "stream",
     "text": [
      "203075\n",
      "261622\n",
      "261449\n",
      "387529\n",
      "261034\n",
      "378420\n",
      "489013\n",
      "457510\n",
      "416910\n",
      "333722\n",
      "461887\n"
     ]
    }
   ],
   "source": [
    "print(file_list_2011.estimated_document_count())\n",
    "print(file_list_2012.estimated_document_count())\n",
    "print(file_list_2013.estimated_document_count())\n",
    "print(file_list_2014.estimated_document_count())\n",
    "print(file_list_2015.estimated_document_count())\n",
    "print(file_list_2016.estimated_document_count())\n",
    "print(file_list_2017.estimated_document_count())\n",
    "print(file_list_2018.estimated_document_count())\n",
    "print(file_list_2019.estimated_document_count())\n",
    "print(file_list_2020.estimated_document_count())\n",
    "print(file_list_2021.estimated_document_count())"
   ]
  },
  {
   "cell_type": "markdown",
   "metadata": {},
   "source": [
    "<br>Here is an alternative approach. First, create a dictionary:"
   ]
  },
  {
   "cell_type": "code",
   "execution_count": 39,
   "metadata": {},
   "outputs": [
    {
     "name": "stdout",
     "output_type": "stream",
     "text": [
      "['file_list_2011.estimated_document_count()', 'file_list_2012.estimated_document_count()', 'file_list_2013.estimated_document_count()', 'file_list_2014.estimated_document_count()', 'file_list_2015.estimated_document_count()', 'file_list_2016.estimated_document_count()', 'file_list_2017.estimated_document_count()', 'file_list_2018.estimated_document_count()', 'file_list_2019.estimated_document_count()', 'file_list_2020.estimated_document_count()', 'file_list_2021.estimated_document_count()']\n"
     ]
    }
   ],
   "source": [
    "file_list = []\n",
    "for year in year_list:\n",
    "    file_list.append('file_list_%s.estimated_document_count()' % year)\n",
    "print(file_list)"
   ]
  },
  {
   "cell_type": "markdown",
   "metadata": {},
   "source": [
    "<br>Then create a dictionary:"
   ]
  },
  {
   "cell_type": "code",
   "execution_count": 40,
   "metadata": {},
   "outputs": [
    {
     "data": {
      "text/plain": [
       "{2011: 'file_list_2011.estimated_document_count()',\n",
       " 2012: 'file_list_2012.estimated_document_count()',\n",
       " 2013: 'file_list_2013.estimated_document_count()',\n",
       " 2014: 'file_list_2014.estimated_document_count()',\n",
       " 2015: 'file_list_2015.estimated_document_count()',\n",
       " 2016: 'file_list_2016.estimated_document_count()',\n",
       " 2017: 'file_list_2017.estimated_document_count()',\n",
       " 2018: 'file_list_2018.estimated_document_count()',\n",
       " 2019: 'file_list_2019.estimated_document_count()',\n",
       " 2020: 'file_list_2020.estimated_document_count()',\n",
       " 2021: 'file_list_2021.estimated_document_count()'}"
      ]
     },
     "execution_count": 40,
     "metadata": {},
     "output_type": "execute_result"
    }
   ],
   "source": [
    "db_dict = dict(zip(year_list,file_list))\n",
    "db_dict"
   ]
  },
  {
   "cell_type": "markdown",
   "metadata": {},
   "source": [
    "<br>And finally, loop over the dictionary. The problem is that the dictionary key is for the *estimated_document_count( )* command; I don't then have one for the *insert_many( )* command. So, I am using the alternative approach shown above."
   ]
  },
  {
   "cell_type": "code",
   "execution_count": 44,
   "metadata": {},
   "outputs": [
    {
     "name": "stdout",
     "output_type": "stream",
     "text": [
      "file_list_2011 \t 203075\n",
      "file_list_2012 \t 261622\n",
      "file_list_2013 \t 261449\n",
      "file_list_2014 \t 387529\n",
      "file_list_2015 \t 261034\n",
      "file_list_2016 \t 378420\n",
      "file_list_2017 \t 489013\n",
      "file_list_2018 \t 457510\n",
      "file_list_2019 \t 416910\n",
      "file_list_2020 \t 333722\n",
      "file_list_2021 \t 461887\n"
     ]
    }
   ],
   "source": [
    "for year in year_list[:]:\n",
    "    #print('# of filings in database:', file_list_%s.estimated_document_count() %s)\n",
    "    col = 'file_list_%s' % year\n",
    "    #print(col)\n",
    "    print(col, '\\t', eval(col).estimated_document_count())\n",
    "    #eval(col).insert_many(data['Filings%s' % year])\n",
    "    #print(eval(col).estimated_document_count())"
   ]
  },
  {
   "cell_type": "markdown",
   "metadata": {},
   "source": [
    "<br>We can inspect the data by checking the first two filings in the database:"
   ]
  },
  {
   "cell_type": "code",
   "execution_count": 47,
   "metadata": {},
   "outputs": [
    {
     "name": "stdout",
     "output_type": "stream",
     "text": [
      "{'_id': ObjectId('62af860e55dbc5a4cb59b27d'), 'EIN': '591971002', 'TaxPeriod': '201009', 'DLN': '93493316003251', 'FormType': '990', 'URL': 'https://s3.amazonaws.com/irs-form-990/201103169349300325_public.xml', 'OrganizationName': 'ANGELUS INC', 'SubmittedOn': '2011-11-30', 'ObjectId': '201103169349300325', 'LastUpdated': '2016-03-21T17:23:53'} \n",
      "\n",
      "{'_id': ObjectId('62af860e55dbc5a4cb59b27e'), 'EIN': '251713602', 'TaxPeriod': '201106', 'DLN': '93493313012311', 'FormType': '990', 'URL': 'https://s3.amazonaws.com/irs-form-990/201113139349301231_public.xml', 'OrganizationName': 'TOUCH-STONE SOLUTIONS INC', 'SubmittedOn': '2011-11-30', 'ObjectId': '201113139349301231', 'LastUpdated': '2016-03-21T17:23:53'} \n",
      "\n"
     ]
    }
   ],
   "source": [
    "for user in file_list_2011.find()[:2]:\n",
    "    print(user, '\\n')"
   ]
  },
  {
   "cell_type": "markdown",
   "metadata": {},
   "source": [
    "Let's also get the frequency counts for the various *FormType*s. We see the frequencies for 990PF, 990EZ, and 990 filings for the 2021 index collection."
   ]
  },
  {
   "cell_type": "code",
   "execution_count": 48,
   "metadata": {},
   "outputs": [
    {
     "data": {
      "text/plain": [
       "[{'_id': '990EZ', 'count': 129184},\n",
       " {'_id': '990', 'count': 253933},\n",
       " {'_id': '990PF', 'count': 78770}]"
      ]
     },
     "execution_count": 48,
     "metadata": {},
     "output_type": "execute_result"
    }
   ],
   "source": [
    "from bson.son import SON\n",
    "pipeline = [ {\"$group\": {\"_id\": \"$FormType\", \"count\": {\"$sum\": 1}}} ]\n",
    "list(file_list_2021.aggregate(pipeline))"
   ]
  },
  {
   "cell_type": "markdown",
   "metadata": {},
   "source": [
    "Loop for all individual year collections in the database"
   ]
  },
  {
   "cell_type": "code",
   "execution_count": 49,
   "metadata": {},
   "outputs": [
    {
     "name": "stdout",
     "output_type": "stream",
     "text": [
      "[{'_id': '990EZ', 'count': 65858}, {'_id': '990PF', 'count': 24199}, {'_id': '990', 'count': 113018}]\n",
      "[{'_id': '990EZ', 'count': 79633}, {'_id': '990PF', 'count': 33822}, {'_id': '990', 'count': 148167}]\n",
      "[{'_id': '990EZ', 'count': 82475}, {'_id': '990PF', 'count': 25414}, {'_id': '990', 'count': 153560}]\n",
      "[{'_id': '990EZ', 'count': 112403}, {'_id': '990PF', 'count': 59255}, {'_id': '990', 'count': 215871}]\n",
      "[{'_id': '990EZ', 'count': 81244}, {'_id': '990PF', 'count': 38650}, {'_id': '990', 'count': 141140}]\n",
      "[{'_id': '990', 'count': 211537}, {'_id': '990PF', 'count': 53694}, {'_id': '990EZ', 'count': 113189}]\n",
      "[{'_id': '990EZ', 'count': 145966}, {'_id': '990PF', 'count': 68547}, {'_id': '990', 'count': 274500}]\n",
      "[{'_id': '990EZ', 'count': 136384}, {'_id': '990PF', 'count': 67632}, {'_id': '990', 'count': 253494}]\n",
      "[{'_id': '990EZ', 'count': 124815}, {'_id': '990PF', 'count': 64720}, {'_id': '990', 'count': 227375}]\n",
      "[{'_id': '990EZ', 'count': 105844}, {'_id': '990PF', 'count': 27932}, {'_id': '990', 'count': 199946}]\n",
      "[{'_id': '990EZ', 'count': 129184}, {'_id': '990PF', 'count': 78770}, {'_id': '990', 'count': 253933}]\n"
     ]
    }
   ],
   "source": [
    "for year in year_list[:]:    \n",
    "    col = 'file_list_%s' % year\n",
    "    print(list(eval(col).aggregate(pipeline)))"
   ]
  },
  {
   "cell_type": "markdown",
   "metadata": {},
   "source": [
    "<br>Note that we now only have a database containing an index of the 3,912,171 990 filings. In order to actually use the 990 data, we will first have to download the filings listed in this database as well as create a data dictionary that can map out the variables we're interested in. The next set of tutorials will cover those steps. "
   ]
  }
 ],
 "metadata": {
  "kernelspec": {
   "display_name": "Python 3 (ipykernel)",
   "language": "python",
   "name": "python3"
  },
  "language_info": {
   "codemirror_mode": {
    "name": "ipython",
    "version": 3
   },
   "file_extension": ".py",
   "mimetype": "text/x-python",
   "name": "python",
   "nbconvert_exporter": "python",
   "pygments_lexer": "ipython3",
   "version": "3.8.13"
  },
  "toc": {
   "colors": {
    "hover_highlight": "#DAA520",
    "navigate_num": "#000000",
    "navigate_text": "#333333",
    "running_highlight": "#FF0000",
    "selected_highlight": "#FFD700",
    "sidebar_border": "#EEEEEE",
    "wrapper_background": "#FFFFFF"
   },
   "moveMenuLeft": true,
   "nav_menu": {
    "height": "279px",
    "width": "252px"
   },
   "navigate_menu": true,
   "number_sections": true,
   "sideBar": true,
   "threshold": 4,
   "toc_cell": false,
   "toc_section_display": "block",
   "toc_window_display": false,
   "widenNotebook": false
  }
 },
 "nbformat": 4,
 "nbformat_minor": 1
}
